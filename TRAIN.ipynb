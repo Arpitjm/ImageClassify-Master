{
 "cells": [
  {
   "cell_type": "markdown",
   "metadata": {},
   "source": [
    "To improve the efficiency of the model and reduce the training time, I make a few optimizations:\n",
    "\n",
    "Using a smaller architecture: Reducing the size of the network can help speed up the training process.\n",
    "\n",
    "Data Augmentation: Using data augmentation to artificially increase the size of the dataset can help the model generalize better.\n",
    "\n",
    "Early Stopping: Using early stopping to halt training when the model stops improving.\n",
    "\n",
    "Batch Normalization: Adding batch normalization to speed up training and improve performance."
   ]
  },
  {
   "cell_type": "code",
   "execution_count": 2,
   "metadata": {},
   "outputs": [
    {
     "name": "stdout",
     "output_type": "stream",
     "text": [
      "Epoch 1/10\n",
      "782/782 [==============================] - 81s 99ms/step - loss: 1.6480 - accuracy: 0.4540 - val_loss: 1.2756 - val_accuracy: 0.5575\n",
      "Epoch 2/10\n",
      "782/782 [==============================] - 61s 78ms/step - loss: 1.2120 - accuracy: 0.5675 - val_loss: 1.1203 - val_accuracy: 0.6110\n",
      "Epoch 3/10\n",
      "782/782 [==============================] - 61s 78ms/step - loss: 1.1009 - accuracy: 0.6123 - val_loss: 1.7243 - val_accuracy: 0.5364\n",
      "Epoch 4/10\n",
      "782/782 [==============================] - 76s 97ms/step - loss: 1.0385 - accuracy: 0.6331 - val_loss: 0.9340 - val_accuracy: 0.6744\n",
      "Epoch 5/10\n",
      "782/782 [==============================] - 44s 56ms/step - loss: 0.9929 - accuracy: 0.6515 - val_loss: 0.8832 - val_accuracy: 0.6974\n",
      "Epoch 6/10\n",
      "782/782 [==============================] - 42s 54ms/step - loss: 0.9623 - accuracy: 0.6625 - val_loss: 1.0468 - val_accuracy: 0.6439\n",
      "Epoch 7/10\n",
      "782/782 [==============================] - 71s 91ms/step - loss: 0.9215 - accuracy: 0.6760 - val_loss: 1.0250 - val_accuracy: 0.6582\n",
      "Epoch 8/10\n",
      "782/782 [==============================] - 42s 54ms/step - loss: 0.8979 - accuracy: 0.6844 - val_loss: 0.8337 - val_accuracy: 0.7135\n",
      "Epoch 9/10\n",
      "782/782 [==============================] - 42s 54ms/step - loss: 0.8674 - accuracy: 0.6954 - val_loss: 0.9059 - val_accuracy: 0.6877\n",
      "Epoch 10/10\n",
      "782/782 [==============================] - 43s 54ms/step - loss: 0.8568 - accuracy: 0.7010 - val_loss: 0.9351 - val_accuracy: 0.6805\n"
     ]
    },
    {
     "name": "stderr",
     "output_type": "stream",
     "text": [
      "c:\\Users\\Arpit\\AppData\\Local\\Programs\\Python\\Python38\\lib\\site-packages\\keras\\src\\engine\\training.py:3000: UserWarning: You are saving your model as an HDF5 file via `model.save()`. This file format is considered legacy. We recommend using instead the native Keras format, e.g. `model.save('my_model.keras')`.\n",
      "  saving_api.save_model(\n"
     ]
    }
   ],
   "source": [
    "from tensorflow.keras.datasets import cifar10\n",
    "from tensorflow.keras.utils import to_categorical\n",
    "from tensorflow.keras.preprocessing.image import ImageDataGenerator\n",
    "from tensorflow.keras.callbacks import EarlyStopping\n",
    "from tensorflow.keras.layers import BatchNormalization\n",
    "import numpy as np\n",
    "\n",
    "# Load and preprocess data\n",
    "(x_train, y_train), (x_test, y_test) = cifar10.load_data()\n",
    "\n",
    "x_train = x_train.astype('float32') / 255.0\n",
    "x_test = x_test.astype('float32') / 255.0\n",
    "\n",
    "y_train = to_categorical(y_train, 10)\n",
    "y_test = to_categorical(y_test, 10)\n",
    "\n",
    "# Data augmentation\n",
    "datagen = ImageDataGenerator(\n",
    "    rotation_range=15,\n",
    "    width_shift_range=0.1,\n",
    "    height_shift_range=0.1,\n",
    "    horizontal_flip=True\n",
    ")\n",
    "datagen.fit(x_train)\n",
    "\n",
    "# Define the model\n",
    "from tensorflow.keras.models import Sequential\n",
    "from tensorflow.keras.layers import Conv2D, MaxPooling2D, Flatten, Dense, Dropout, BatchNormalization\n",
    "\n",
    "model = Sequential([\n",
    "    Conv2D(32, (3, 3), activation='relu', input_shape=(32, 32, 3)),\n",
    "    BatchNormalization(),\n",
    "    MaxPooling2D(pool_size=(2, 2)),\n",
    "    Conv2D(64, (3, 3), activation='relu'),\n",
    "    BatchNormalization(),\n",
    "    MaxPooling2D(pool_size=(2, 2)),\n",
    "    Flatten(),\n",
    "    Dense(512, activation='relu'),\n",
    "    BatchNormalization(),\n",
    "    Dropout(0.5),\n",
    "    Dense(10, activation='softmax')\n",
    "])\n",
    "\n",
    "model.compile(loss='categorical_crossentropy', optimizer='adam', metrics=['accuracy'])\n",
    "\n",
    "# Early stopping\n",
    "early_stopping = EarlyStopping(monitor='val_loss', patience=5)\n",
    "\n",
    "# Train the model\n",
    "model.fit(datagen.flow(x_train, y_train, batch_size=64),\n",
    "          epochs=10,\n",
    "          validation_data=(x_test, y_test),\n",
    "          callbacks=[early_stopping])\n",
    "\n",
    "# Save the model\n",
    "model.save('cifar10_model_optimized.h5')\n"
   ]
  },
  {
   "cell_type": "code",
   "execution_count": null,
   "metadata": {},
   "outputs": [],
   "source": []
  }
 ],
 "metadata": {
  "kernelspec": {
   "display_name": "Python 3",
   "language": "python",
   "name": "python3"
  },
  "language_info": {
   "codemirror_mode": {
    "name": "ipython",
    "version": 3
   },
   "file_extension": ".py",
   "mimetype": "text/x-python",
   "name": "python",
   "nbconvert_exporter": "python",
   "pygments_lexer": "ipython3",
   "version": "3.8.10"
  }
 },
 "nbformat": 4,
 "nbformat_minor": 2
}
